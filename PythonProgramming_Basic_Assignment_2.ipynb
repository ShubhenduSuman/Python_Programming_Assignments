{
 "cells": [
  {
   "cell_type": "markdown",
   "id": "eedf0564",
   "metadata": {},
   "source": [
    "# 1.\tWrite a Python program to convert kilometers to miles?"
   ]
  },
  {
   "cell_type": "code",
   "execution_count": 16,
   "id": "03cafff0",
   "metadata": {},
   "outputs": [],
   "source": [
    "def kilo_to_miles():\n",
    "    x = float(input(\"Enter the distance in km(s) : \"))\n",
    "    m = (x * 0.621371)\n",
    "    print('{} km(s) = {} miles'.format(x, m))"
   ]
  },
  {
   "cell_type": "code",
   "execution_count": 17,
   "id": "0975fa9f",
   "metadata": {},
   "outputs": [
    {
     "name": "stdout",
     "output_type": "stream",
     "text": [
      "Enter the distance in km(s) : 14\n",
      "14.0 km(s) = 8.699194 miles\n"
     ]
    }
   ],
   "source": [
    "kilo_to_miles()"
   ]
  },
  {
   "cell_type": "markdown",
   "id": "45c4a04a",
   "metadata": {},
   "source": [
    "# 2.\tWrite a Python program to convert Celsius to Fahrenheit?"
   ]
  },
  {
   "cell_type": "code",
   "execution_count": 20,
   "id": "bb9523fa",
   "metadata": {},
   "outputs": [],
   "source": [
    "def cel_to_fah():\n",
    "    c = float(input('Enter the temp. in celcius : '))\n",
    "    f = (c * 1.8) + 32\n",
    "    print('{} deg C = {} deg F'.format(c, f))"
   ]
  },
  {
   "cell_type": "code",
   "execution_count": 21,
   "id": "9ba4c181",
   "metadata": {},
   "outputs": [
    {
     "name": "stdout",
     "output_type": "stream",
     "text": [
      "Enter the temp. in celcius : 32\n",
      "32.0 deg C = 89.6 deg F\n"
     ]
    }
   ],
   "source": [
    "cel_to_fah()"
   ]
  },
  {
   "cell_type": "markdown",
   "id": "20c562f9",
   "metadata": {},
   "source": [
    "# 3.\tWrite a Python program to display calendar?"
   ]
  },
  {
   "cell_type": "code",
   "execution_count": 28,
   "id": "d444f412",
   "metadata": {},
   "outputs": [],
   "source": [
    "import calendar"
   ]
  },
  {
   "cell_type": "code",
   "execution_count": 39,
   "id": "7a24be74",
   "metadata": {},
   "outputs": [],
   "source": [
    "def dis_calendar():\n",
    "    yy = int(input('Enter the year of which you want the calendar : '))\n",
    "    print('\\n')\n",
    "    print(calendar.calendar(yy))"
   ]
  },
  {
   "cell_type": "code",
   "execution_count": 40,
   "id": "e6c1b8da",
   "metadata": {},
   "outputs": [
    {
     "name": "stdout",
     "output_type": "stream",
     "text": [
      "Enter the year of which you want the calendar : 2021\n",
      "\n",
      "\n",
      "                                  2021\n",
      "\n",
      "      January                   February                   March\n",
      "Mo Tu We Th Fr Sa Su      Mo Tu We Th Fr Sa Su      Mo Tu We Th Fr Sa Su\n",
      "             1  2  3       1  2  3  4  5  6  7       1  2  3  4  5  6  7\n",
      " 4  5  6  7  8  9 10       8  9 10 11 12 13 14       8  9 10 11 12 13 14\n",
      "11 12 13 14 15 16 17      15 16 17 18 19 20 21      15 16 17 18 19 20 21\n",
      "18 19 20 21 22 23 24      22 23 24 25 26 27 28      22 23 24 25 26 27 28\n",
      "25 26 27 28 29 30 31                                29 30 31\n",
      "\n",
      "       April                      May                       June\n",
      "Mo Tu We Th Fr Sa Su      Mo Tu We Th Fr Sa Su      Mo Tu We Th Fr Sa Su\n",
      "          1  2  3  4                      1  2          1  2  3  4  5  6\n",
      " 5  6  7  8  9 10 11       3  4  5  6  7  8  9       7  8  9 10 11 12 13\n",
      "12 13 14 15 16 17 18      10 11 12 13 14 15 16      14 15 16 17 18 19 20\n",
      "19 20 21 22 23 24 25      17 18 19 20 21 22 23      21 22 23 24 25 26 27\n",
      "26 27 28 29 30            24 25 26 27 28 29 30      28 29 30\n",
      "                          31\n",
      "\n",
      "        July                     August                  September\n",
      "Mo Tu We Th Fr Sa Su      Mo Tu We Th Fr Sa Su      Mo Tu We Th Fr Sa Su\n",
      "          1  2  3  4                         1             1  2  3  4  5\n",
      " 5  6  7  8  9 10 11       2  3  4  5  6  7  8       6  7  8  9 10 11 12\n",
      "12 13 14 15 16 17 18       9 10 11 12 13 14 15      13 14 15 16 17 18 19\n",
      "19 20 21 22 23 24 25      16 17 18 19 20 21 22      20 21 22 23 24 25 26\n",
      "26 27 28 29 30 31         23 24 25 26 27 28 29      27 28 29 30\n",
      "                          30 31\n",
      "\n",
      "      October                   November                  December\n",
      "Mo Tu We Th Fr Sa Su      Mo Tu We Th Fr Sa Su      Mo Tu We Th Fr Sa Su\n",
      "             1  2  3       1  2  3  4  5  6  7             1  2  3  4  5\n",
      " 4  5  6  7  8  9 10       8  9 10 11 12 13 14       6  7  8  9 10 11 12\n",
      "11 12 13 14 15 16 17      15 16 17 18 19 20 21      13 14 15 16 17 18 19\n",
      "18 19 20 21 22 23 24      22 23 24 25 26 27 28      20 21 22 23 24 25 26\n",
      "25 26 27 28 29 30 31      29 30                     27 28 29 30 31\n",
      "\n"
     ]
    }
   ],
   "source": [
    "dis_calendar()"
   ]
  },
  {
   "cell_type": "markdown",
   "id": "930ed65e",
   "metadata": {},
   "source": [
    "# 4.\tWrite a Python program to solve quadratic equation?"
   ]
  },
  {
   "cell_type": "code",
   "execution_count": 44,
   "id": "0f2cf41d",
   "metadata": {},
   "outputs": [],
   "source": [
    "#Using Shridharcharya formlua to get the roots of quadratic equation\n",
    "\n",
    "def quad_eq_sol():\n",
    "    a = float(input('Enter the value of a : '))\n",
    "    b = float(input('Enter the value of b : '))\n",
    "    c = float(input('Enter the value of c : '))\n",
    "    print('{}, {} and {} are real numbers.'.format(a, b, c))\n",
    "    x1 = ((-b) + (((b**2)-(4*a*c))**0.5)) /  (2 * a)\n",
    "    x2 = ((-b) - (((b**2)-(4*a*c))**0.5)) /  (2 * a)\n",
    "    print('The roots are : {} and {}'.format(x1, x2))"
   ]
  },
  {
   "cell_type": "code",
   "execution_count": 45,
   "id": "ec0e1a61",
   "metadata": {},
   "outputs": [
    {
     "name": "stdout",
     "output_type": "stream",
     "text": [
      "Enter the value of a : 1\n",
      "Enter the value of b : -45\n",
      "Enter the value of c : 324\n",
      "1.0, -45.0 and 324.0 are real numbers.\n",
      "The roots are : 36.0 and 9.0\n"
     ]
    }
   ],
   "source": [
    "quad_eq_sol()"
   ]
  },
  {
   "cell_type": "code",
   "execution_count": 47,
   "id": "673a05b1",
   "metadata": {},
   "outputs": [
    {
     "name": "stdout",
     "output_type": "stream",
     "text": [
      "Enter the value of a : 1\n",
      "Enter the value of b : 4\n",
      "Enter the value of c : -5\n",
      "1.0, 4.0 and -5.0 are real numbers.\n",
      "The roots are : 1.0 and -5.0\n"
     ]
    }
   ],
   "source": [
    "quad_eq_sol()"
   ]
  },
  {
   "cell_type": "markdown",
   "id": "3bd2dca5",
   "metadata": {},
   "source": [
    "# 5.\tWrite a Python program to swap two variables without temp variable?"
   ]
  },
  {
   "cell_type": "code",
   "execution_count": 54,
   "id": "e5735c8f",
   "metadata": {},
   "outputs": [],
   "source": [
    "def swap_var():\n",
    "    x = float(input('Enter the value of x : '))\n",
    "    y = float(input('Enter the value of y : '))\n",
    "    x = x + y\n",
    "    y = x - y\n",
    "    x = x - y\n",
    "    #return 'The value of x and y after swapping :    x = {}    y = {}'.format(x, y)\n",
    "    print('The value of x and y after swapping :\\nx = {}\\ny = {}'.format(x, y))"
   ]
  },
  {
   "cell_type": "code",
   "execution_count": 55,
   "id": "b5f8f667",
   "metadata": {},
   "outputs": [
    {
     "name": "stdout",
     "output_type": "stream",
     "text": [
      "Enter the value of x : 10\n",
      "Enter the value of y : 20\n",
      "The value of x and y after swapping :\n",
      "x = 20.0\n",
      "y = 10.0\n"
     ]
    }
   ],
   "source": [
    "swap_var()"
   ]
  },
  {
   "cell_type": "code",
   "execution_count": null,
   "id": "56a9ad7f",
   "metadata": {},
   "outputs": [],
   "source": []
  }
 ],
 "metadata": {
  "kernelspec": {
   "display_name": "Python 3 (ipykernel)",
   "language": "python",
   "name": "python3"
  },
  "language_info": {
   "codemirror_mode": {
    "name": "ipython",
    "version": 3
   },
   "file_extension": ".py",
   "mimetype": "text/x-python",
   "name": "python",
   "nbconvert_exporter": "python",
   "pygments_lexer": "ipython3",
   "version": "3.9.7"
  }
 },
 "nbformat": 4,
 "nbformat_minor": 5
}
